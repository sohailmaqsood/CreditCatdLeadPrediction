{
  "nbformat": 4,
  "nbformat_minor": 0,
  "metadata": {
    "colab": {
      "name": "Credit Card Lead - Analytics Vidhya",
      "provenance": [],
      "collapsed_sections": []
    },
    "kernelspec": {
      "name": "python3",
      "display_name": "Python 3"
    },
    "language_info": {
      "name": "python"
    }
  },
  "cells": [
    {
      "cell_type": "markdown",
      "metadata": {
        "id": "ooXGpjkzA1Sc"
      },
      "source": [
        "**Problem statement can be found on this link-** https://datahack.analyticsvidhya.com/contest/job-a-thon-2/?utm_source=Blog&utm_medium=popup#LeaderBoard"
      ]
    },
    {
      "cell_type": "code",
      "metadata": {
        "id": "HSOHnya2ium-"
      },
      "source": [
        "#importing the required libraries\n",
        "\n",
        "import pandas as pd\n",
        "import numpy as np\n",
        "import matplotlib.pyplot as plt\n",
        "import seaborn as sns"
      ],
      "execution_count": null,
      "outputs": []
    },
    {
      "cell_type": "code",
      "metadata": {
        "id": "Y7tbSPOXkFyK"
      },
      "source": [
        "#load data from file to dataframe\n",
        "\n",
        "test = pd.read_csv('test.csv')\n",
        "train = pd.read_csv('train.csv')\n",
        "\n",
        "#keeping copy of original dataframes for future\n",
        "\n",
        "test_orig = test.copy()\n",
        "train_orig = train.copy()"
      ],
      "execution_count": null,
      "outputs": []
    },
    {
      "cell_type": "code",
      "metadata": {
        "colab": {
          "base_uri": "https://localhost:8080/",
          "height": 224
        },
        "id": "wwWd7lxK5cKf",
        "outputId": "77fabe63-0c93-4f2c-977b-da6865acae43"
      },
      "source": [
        "#data preview\n",
        "\n",
        "train.head()"
      ],
      "execution_count": null,
      "outputs": [
        {
          "output_type": "execute_result",
          "data": {
            "text/html": [
              "<div>\n",
              "<style scoped>\n",
              "    .dataframe tbody tr th:only-of-type {\n",
              "        vertical-align: middle;\n",
              "    }\n",
              "\n",
              "    .dataframe tbody tr th {\n",
              "        vertical-align: top;\n",
              "    }\n",
              "\n",
              "    .dataframe thead th {\n",
              "        text-align: right;\n",
              "    }\n",
              "</style>\n",
              "<table border=\"1\" class=\"dataframe\">\n",
              "  <thead>\n",
              "    <tr style=\"text-align: right;\">\n",
              "      <th></th>\n",
              "      <th>ID</th>\n",
              "      <th>Gender</th>\n",
              "      <th>Age</th>\n",
              "      <th>Region_Code</th>\n",
              "      <th>Occupation</th>\n",
              "      <th>Channel_Code</th>\n",
              "      <th>Vintage</th>\n",
              "      <th>Credit_Product</th>\n",
              "      <th>Avg_Account_Balance</th>\n",
              "      <th>Is_Active</th>\n",
              "      <th>Is_Lead</th>\n",
              "    </tr>\n",
              "  </thead>\n",
              "  <tbody>\n",
              "    <tr>\n",
              "      <th>0</th>\n",
              "      <td>NNVBBKZB</td>\n",
              "      <td>Female</td>\n",
              "      <td>73</td>\n",
              "      <td>RG268</td>\n",
              "      <td>Other</td>\n",
              "      <td>X3</td>\n",
              "      <td>43</td>\n",
              "      <td>No</td>\n",
              "      <td>1045696</td>\n",
              "      <td>No</td>\n",
              "      <td>0</td>\n",
              "    </tr>\n",
              "    <tr>\n",
              "      <th>1</th>\n",
              "      <td>IDD62UNG</td>\n",
              "      <td>Female</td>\n",
              "      <td>30</td>\n",
              "      <td>RG277</td>\n",
              "      <td>Salaried</td>\n",
              "      <td>X1</td>\n",
              "      <td>32</td>\n",
              "      <td>No</td>\n",
              "      <td>581988</td>\n",
              "      <td>No</td>\n",
              "      <td>0</td>\n",
              "    </tr>\n",
              "    <tr>\n",
              "      <th>2</th>\n",
              "      <td>HD3DSEMC</td>\n",
              "      <td>Female</td>\n",
              "      <td>56</td>\n",
              "      <td>RG268</td>\n",
              "      <td>Self_Employed</td>\n",
              "      <td>X3</td>\n",
              "      <td>26</td>\n",
              "      <td>No</td>\n",
              "      <td>1484315</td>\n",
              "      <td>Yes</td>\n",
              "      <td>0</td>\n",
              "    </tr>\n",
              "    <tr>\n",
              "      <th>3</th>\n",
              "      <td>BF3NC7KV</td>\n",
              "      <td>Male</td>\n",
              "      <td>34</td>\n",
              "      <td>RG270</td>\n",
              "      <td>Salaried</td>\n",
              "      <td>X1</td>\n",
              "      <td>19</td>\n",
              "      <td>No</td>\n",
              "      <td>470454</td>\n",
              "      <td>No</td>\n",
              "      <td>0</td>\n",
              "    </tr>\n",
              "    <tr>\n",
              "      <th>4</th>\n",
              "      <td>TEASRWXV</td>\n",
              "      <td>Female</td>\n",
              "      <td>30</td>\n",
              "      <td>RG282</td>\n",
              "      <td>Salaried</td>\n",
              "      <td>X1</td>\n",
              "      <td>33</td>\n",
              "      <td>No</td>\n",
              "      <td>886787</td>\n",
              "      <td>No</td>\n",
              "      <td>0</td>\n",
              "    </tr>\n",
              "  </tbody>\n",
              "</table>\n",
              "</div>"
            ],
            "text/plain": [
              "         ID  Gender  Age  ... Avg_Account_Balance Is_Active Is_Lead\n",
              "0  NNVBBKZB  Female   73  ...             1045696        No       0\n",
              "1  IDD62UNG  Female   30  ...              581988        No       0\n",
              "2  HD3DSEMC  Female   56  ...             1484315       Yes       0\n",
              "3  BF3NC7KV    Male   34  ...              470454        No       0\n",
              "4  TEASRWXV  Female   30  ...              886787        No       0\n",
              "\n",
              "[5 rows x 11 columns]"
            ]
          },
          "metadata": {
            "tags": []
          },
          "execution_count": 3
        }
      ]
    },
    {
      "cell_type": "code",
      "metadata": {
        "colab": {
          "base_uri": "https://localhost:8080/"
        },
        "id": "PiNh-n9N6XUh",
        "outputId": "3c8bf188-8925-402a-fb65-8ca29c5b8863"
      },
      "source": [
        "train.info()"
      ],
      "execution_count": null,
      "outputs": [
        {
          "output_type": "stream",
          "text": [
            "<class 'pandas.core.frame.DataFrame'>\n",
            "RangeIndex: 245725 entries, 0 to 245724\n",
            "Data columns (total 11 columns):\n",
            " #   Column               Non-Null Count   Dtype \n",
            "---  ------               --------------   ----- \n",
            " 0   ID                   245725 non-null  object\n",
            " 1   Gender               245725 non-null  object\n",
            " 2   Age                  245725 non-null  int64 \n",
            " 3   Region_Code          245725 non-null  object\n",
            " 4   Occupation           245725 non-null  object\n",
            " 5   Channel_Code         245725 non-null  object\n",
            " 6   Vintage              245725 non-null  int64 \n",
            " 7   Credit_Product       216400 non-null  object\n",
            " 8   Avg_Account_Balance  245725 non-null  int64 \n",
            " 9   Is_Active            245725 non-null  object\n",
            " 10  Is_Lead              245725 non-null  int64 \n",
            "dtypes: int64(4), object(7)\n",
            "memory usage: 20.6+ MB\n"
          ],
          "name": "stdout"
        }
      ]
    },
    {
      "cell_type": "code",
      "metadata": {
        "id": "_r9d2UZD6m56",
        "colab": {
          "base_uri": "https://localhost:8080/"
        },
        "outputId": "7ec01284-e9e4-4fd0-c111-bef41413c321"
      },
      "source": [
        "#check for missing values\n",
        "train.isnull().sum()"
      ],
      "execution_count": null,
      "outputs": [
        {
          "output_type": "execute_result",
          "data": {
            "text/plain": [
              "ID                         0\n",
              "Gender                     0\n",
              "Age                        0\n",
              "Region_Code                0\n",
              "Occupation                 0\n",
              "Channel_Code               0\n",
              "Vintage                    0\n",
              "Credit_Product         29325\n",
              "Avg_Account_Balance        0\n",
              "Is_Active                  0\n",
              "Is_Lead                    0\n",
              "dtype: int64"
            ]
          },
          "metadata": {
            "tags": []
          },
          "execution_count": 5
        }
      ]
    },
    {
      "cell_type": "markdown",
      "metadata": {
        "id": "SwvtYovM8y1M"
      },
      "source": [
        "*We don't see any missing values columns except,* **Credit Product** which has 29325 missing values"
      ]
    },
    {
      "cell_type": "code",
      "metadata": {
        "colab": {
          "base_uri": "https://localhost:8080/"
        },
        "id": "QGNxR1GoAIRx",
        "outputId": "af31af4f-72e8-43fa-9780-10e084d55ef5"
      },
      "source": [
        "#Similarly lets check missing values in test dataset\n",
        "test.isnull().sum()"
      ],
      "execution_count": null,
      "outputs": [
        {
          "output_type": "execute_result",
          "data": {
            "text/plain": [
              "ID                         0\n",
              "Gender                     0\n",
              "Age                        0\n",
              "Region_Code                0\n",
              "Occupation                 0\n",
              "Channel_Code               0\n",
              "Vintage                    0\n",
              "Credit_Product         12522\n",
              "Avg_Account_Balance        0\n",
              "Is_Active                  0\n",
              "dtype: int64"
            ]
          },
          "metadata": {
            "tags": []
          },
          "execution_count": 6
        }
      ]
    },
    {
      "cell_type": "code",
      "metadata": {
        "colab": {
          "base_uri": "https://localhost:8080/"
        },
        "id": "1dz3b0ZQEG5_",
        "outputId": "c29bd09d-a4b1-49a7-f7fe-548cc123d8e2"
      },
      "source": [
        "train.info()"
      ],
      "execution_count": null,
      "outputs": [
        {
          "output_type": "stream",
          "text": [
            "<class 'pandas.core.frame.DataFrame'>\n",
            "RangeIndex: 245725 entries, 0 to 245724\n",
            "Data columns (total 11 columns):\n",
            " #   Column               Non-Null Count   Dtype \n",
            "---  ------               --------------   ----- \n",
            " 0   ID                   245725 non-null  object\n",
            " 1   Gender               245725 non-null  object\n",
            " 2   Age                  245725 non-null  int64 \n",
            " 3   Region_Code          245725 non-null  object\n",
            " 4   Occupation           245725 non-null  object\n",
            " 5   Channel_Code         245725 non-null  object\n",
            " 6   Vintage              245725 non-null  int64 \n",
            " 7   Credit_Product       216400 non-null  object\n",
            " 8   Avg_Account_Balance  245725 non-null  int64 \n",
            " 9   Is_Active            245725 non-null  object\n",
            " 10  Is_Lead              245725 non-null  int64 \n",
            "dtypes: int64(4), object(7)\n",
            "memory usage: 20.6+ MB\n"
          ],
          "name": "stdout"
        }
      ]
    },
    {
      "cell_type": "code",
      "metadata": {
        "colab": {
          "base_uri": "https://localhost:8080/"
        },
        "id": "Mvdibd8EI1rt",
        "outputId": "37f73f00-3ee2-43b6-a97d-ba97ef468d90"
      },
      "source": [
        "train.dtypes"
      ],
      "execution_count": null,
      "outputs": [
        {
          "output_type": "execute_result",
          "data": {
            "text/plain": [
              "ID                     object\n",
              "Gender                 object\n",
              "Age                     int64\n",
              "Region_Code            object\n",
              "Occupation             object\n",
              "Channel_Code           object\n",
              "Vintage                 int64\n",
              "Credit_Product         object\n",
              "Avg_Account_Balance     int64\n",
              "Is_Active              object\n",
              "Is_Lead                 int64\n",
              "dtype: object"
            ]
          },
          "metadata": {
            "tags": []
          },
          "execution_count": 8
        }
      ]
    },
    {
      "cell_type": "code",
      "metadata": {
        "colab": {
          "base_uri": "https://localhost:8080/",
          "height": 350
        },
        "id": "jY-XkX6r29FT",
        "outputId": "0ee48889-fe00-4913-a1cb-aaf6f3c346ac"
      },
      "source": [
        "#let check the distribution of age columns\n",
        "\n",
        "sns.distplot(train['Age'],hist=True,bins=16)"
      ],
      "execution_count": null,
      "outputs": [
        {
          "output_type": "stream",
          "text": [
            "/usr/local/lib/python3.7/dist-packages/seaborn/distributions.py:2557: FutureWarning: `distplot` is a deprecated function and will be removed in a future version. Please adapt your code to use either `displot` (a figure-level function with similar flexibility) or `histplot` (an axes-level function for histograms).\n",
            "  warnings.warn(msg, FutureWarning)\n"
          ],
          "name": "stderr"
        },
        {
          "output_type": "execute_result",
          "data": {
            "text/plain": [
              "<matplotlib.axes._subplots.AxesSubplot at 0x7fd6806f4950>"
            ]
          },
          "metadata": {
            "tags": []
          },
          "execution_count": 9
        },
        {
          "output_type": "display_data",
          "data": {
            "image/png": "[encoded data removed]",
            "text/plain": [
              "<Figure size 432x288 with 1 Axes>"
            ]
          },
          "metadata": {
            "tags": [],
            "needs_background": "light"
          }
        }
      ]
    },
    {
      "cell_type": "markdown",
      "metadata": {
        "id": "kP4MOygv4OEC"
      },
      "source": [
        "Highest number of customers being in the age group of 25-30"
      ]
    },
    {
      "cell_type": "code",
      "metadata": {
        "id": "EjqKlKdW4eAB"
      },
      "source": [
        "bins = [i for i in range(15,100,5)]\n",
        "train['age_group'] = pd.cut(train['Age'],bins=bins)\n",
        "train.drop(['Age'],axis=1,inplace=True)"
      ],
      "execution_count": null,
      "outputs": []
    },
    {
      "cell_type": "code",
      "metadata": {
        "id": "Wy9Tyn-W5LkJ"
      },
      "source": [
        "#Similarly for test dataset\n",
        "test['age_group'] = pd.cut(test['Age'],bins=bins)\n",
        "test.drop(['Age'],axis=1,inplace=True)"
      ],
      "execution_count": null,
      "outputs": []
    },
    {
      "cell_type": "code",
      "metadata": {
        "colab": {
          "base_uri": "https://localhost:8080/",
          "height": 312
        },
        "id": "VpJbPeK94_0w",
        "outputId": "74e4a155-af80-4689-b859-06ee68016e61"
      },
      "source": [
        "train['age_group'].value_counts().plot.bar()"
      ],
      "execution_count": null,
      "outputs": [
        {
          "output_type": "execute_result",
          "data": {
            "text/plain": [
              "<matplotlib.axes._subplots.AxesSubplot at 0x7fd674e5e950>"
            ]
          },
          "metadata": {
            "tags": []
          },
          "execution_count": 12
        },
        {
          "output_type": "display_data",
          "data": {
            "image/png": "[encoded data removed]",
            "text/plain": [
              "<Figure size 432x288 with 1 Axes>"
            ]
          },
          "metadata": {
            "tags": [],
            "needs_background": "light"
          }
        }
      ]
    },
    {
      "cell_type": "code",
      "metadata": {
        "id": "I1TyKrFTFeOC"
      },
      "source": [
        "#similarly, lets replace Yes/No in Credit Product and Is Active column\n",
        "train['Credit_Product'].replace(['Yes','No'],[1,0],inplace=True)\n",
        "train['Is_Active'].replace(['Yes','No'],[1,0],inplace=True)"
      ],
      "execution_count": null,
      "outputs": []
    },
    {
      "cell_type": "code",
      "metadata": {
        "id": "-yHPPYc2HtAm"
      },
      "source": [
        "#same for Test set\n",
        "test['Credit_Product'].replace(['Yes','No'],[1,0],inplace=True)\n",
        "test['Is_Active'].replace(['Yes','No'],[1,0],inplace=True)"
      ],
      "execution_count": null,
      "outputs": []
    },
    {
      "cell_type": "code",
      "metadata": {
        "colab": {
          "base_uri": "https://localhost:8080/",
          "height": 563
        },
        "id": "B3TsN5CEB7s8",
        "outputId": "cbb07436-8745-47b3-a181-4cbdba1a0910"
      },
      "source": [
        "#lets check the column distribution for all categorical columns\n",
        "plt.figure(1)\n",
        "plt.subplot(231)\n",
        "plt.subplots_adjust(hspace=0.5)\n",
        "train['Gender'].value_counts(normalize=True).plot.bar(figsize=(20,10),title='Gender')\n",
        "plt.subplot(232)\n",
        "train['Region_Code'].value_counts(normalize=True).plot.bar(title='Region Code')\n",
        "plt.subplot(233)\n",
        "train['Occupation'].value_counts(normalize=True).plot.bar(title='Occupation')\n",
        "plt.subplot(234)\n",
        "train['Channel_Code'].value_counts(normalize=True).plot.bar(title='Channel Code')\n",
        "plt.subplot(235)\n",
        "train['Credit_Product'].value_counts(normalize=True).plot.bar(title='Credit Product')\n",
        "plt.subplot(236)\n",
        "train['Is_Active'].value_counts(normalize=True).plot.bar(title='Is Active')"
      ],
      "execution_count": null,
      "outputs": [
        {
          "output_type": "execute_result",
          "data": {
            "text/plain": [
              "<matplotlib.axes._subplots.AxesSubplot at 0x7fd674b63110>"
            ]
          },
          "metadata": {
            "tags": []
          },
          "execution_count": 15
        },
        {
          "output_type": "display_data",
          "data": {
            "image/png": "[encoded data removed]",
            "text/plain": [
              "<Figure size 1440x720 with 6 Axes>"
            ]
          },
          "metadata": {
            "tags": [],
            "needs_background": "light"
          }
        }
      ]
    },
    {
      "cell_type": "code",
      "metadata": {
        "colab": {
          "base_uri": "https://localhost:8080/",
          "height": 279
        },
        "id": "Gl20oFULuZnF",
        "outputId": "9bfe9286-786f-4fda-e0d0-21fc74845a43"
      },
      "source": [
        "#checking the independent column distribution as well\n",
        "\n",
        "train['Is_Lead'].value_counts(normalize=False).plot.bar()"
      ],
      "execution_count": null,
      "outputs": [
        {
          "output_type": "execute_result",
          "data": {
            "text/plain": [
              "<matplotlib.axes._subplots.AxesSubplot at 0x7fd674d9acd0>"
            ]
          },
          "metadata": {
            "tags": []
          },
          "execution_count": 16
        },
        {
          "output_type": "display_data",
          "data": {
            "image/png": "[encoded data removed]",
            "text/plain": [
              "<Figure size 432x288 with 1 Axes>"
            ]
          },
          "metadata": {
            "tags": [],
            "needs_background": "light"
          }
        }
      ]
    },
    {
      "cell_type": "markdown",
      "metadata": {
        "id": "y5wLaUerusXd"
      },
      "source": [
        "Data is highly imbalance"
      ]
    },
    {
      "cell_type": "code",
      "metadata": {
        "colab": {
          "base_uri": "https://localhost:8080/",
          "height": 303
        },
        "id": "gVAV5Yp-8CeE",
        "outputId": "95d3fea4-8b5d-49ca-f97f-9e1952c70147"
      },
      "source": [
        "#lets check the relation between Credit Product and Is_lead column\n",
        "\n",
        "crd_prd = pd.crosstab(train['Credit_Product'],train['Is_Lead'])\n",
        "crd_prd.div(crd_prd.sum(1).astype(float),axis=0).plot.bar(stacked=True)"
      ],
      "execution_count": null,
      "outputs": [
        {
          "output_type": "execute_result",
          "data": {
            "text/plain": [
              "<matplotlib.axes._subplots.AxesSubplot at 0x7fd6749f2610>"
            ]
          },
          "metadata": {
            "tags": []
          },
          "execution_count": 17
        },
        {
          "output_type": "display_data",
          "data": {
            "image/png": "[encoded data removed]",
            "text/plain": [
              "<Figure size 432x288 with 1 Axes>"
            ]
          },
          "metadata": {
            "tags": [],
            "needs_background": "light"
          }
        }
      ]
    },
    {
      "cell_type": "markdown",
      "metadata": {
        "id": "jGXcBs1KCe52"
      },
      "source": [
        "Around 70% of customers does not have any Credit product. At the same time, it looks like people who already has any credit product, are more interested in getting a credit card"
      ]
    },
    {
      "cell_type": "code",
      "metadata": {
        "id": "ek0LCabBAux3"
      },
      "source": [
        "#lets drop the null values\n",
        "#train.dropna(inplace=True)\n",
        "#dropping null values is resulting in loss of 50% of yes values, in already imbalanced data\n",
        "#so dropping null values is not an option"
      ],
      "execution_count": null,
      "outputs": []
    },
    {
      "cell_type": "code",
      "metadata": {
        "colab": {
          "base_uri": "https://localhost:8080/",
          "height": 362
        },
        "id": "Tsn8uNWC1Xlk",
        "outputId": "1a081eb8-ac47-40e9-d551-768dfee2f0df"
      },
      "source": [
        "#lets check the value distribution for Average Account balance column\n",
        "sns.distplot(train['Avg_Account_Balance'],hist=True)"
      ],
      "execution_count": null,
      "outputs": [
        {
          "output_type": "stream",
          "text": [
            "/usr/local/lib/python3.7/dist-packages/seaborn/distributions.py:2557: FutureWarning: `distplot` is a deprecated function and will be removed in a future version. Please adapt your code to use either `displot` (a figure-level function with similar flexibility) or `histplot` (an axes-level function for histograms).\n",
            "  warnings.warn(msg, FutureWarning)\n"
          ],
          "name": "stderr"
        },
        {
          "output_type": "execute_result",
          "data": {
            "text/plain": [
              "<matplotlib.axes._subplots.AxesSubplot at 0x7fd67490d190>"
            ]
          },
          "metadata": {
            "tags": []
          },
          "execution_count": 19
        },
        {
          "output_type": "display_data",
          "data": {
            "image/png": "[encoded data removed]",
            "text/plain": [
              "<Figure size 432x288 with 1 Axes>"
            ]
          },
          "metadata": {
            "tags": [],
            "needs_background": "light"
          }
        }
      ]
    },
    {
      "cell_type": "code",
      "metadata": {
        "colab": {
          "base_uri": "https://localhost:8080/",
          "height": 738
        },
        "id": "wVlyg-DT1cg7",
        "outputId": "bb7b17aa-b801-4a69-ec65-eb7418d13113"
      },
      "source": [
        "#lets check for outlines in Average Account Balance Column\n",
        "plt.figure(figsize=(5,10))\n",
        "plt.boxplot(train['Avg_Account_Balance'])"
      ],
      "execution_count": null,
      "outputs": [
        {
          "output_type": "execute_result",
          "data": {
            "text/plain": [
              "{'boxes': [<matplotlib.lines.Line2D at 0x7fd6747d06d0>],\n",
              " 'caps': [<matplotlib.lines.Line2D at 0x7fd6747d4650>,\n",
              "  <matplotlib.lines.Line2D at 0x7fd6747d4b90>],\n",
              " 'fliers': [<matplotlib.lines.Line2D at 0x7fd6747db690>],\n",
              " 'means': [],\n",
              " 'medians': [<matplotlib.lines.Line2D at 0x7fd6747db150>],\n",
              " 'whiskers': [<matplotlib.lines.Line2D at 0x7fd6747d0b90>,\n",
              "  <matplotlib.lines.Line2D at 0x7fd6747d4110>]}"
            ]
          },
          "metadata": {
            "tags": []
          },
          "execution_count": 20
        },
        {
          "output_type": "display_data",
          "data": {
            "image/png": "[encoded data removed]",
            "text/plain": [
              "<Figure size 360x720 with 1 Axes>"
            ]
          },
          "metadata": {
            "tags": [],
            "needs_background": "light"
          }
        }
      ]
    },
    {
      "cell_type": "markdown",
      "metadata": {
        "id": "MrVp_Atpo1VN"
      },
      "source": [
        "Average Account Balance has so many outliers\n"
      ]
    },
    {
      "cell_type": "code",
      "metadata": {
        "id": "hIBeCvu-pSO2",
        "colab": {
          "base_uri": "https://localhost:8080/",
          "height": 634
        },
        "outputId": "810c3a94-8adb-441a-87b8-c3b8ea506bd1"
      },
      "source": [
        "plt.figure(figsize=(5,10))\n",
        "sns.boxplot(y=train['Avg_Account_Balance'],x=train['Is_Lead'])"
      ],
      "execution_count": null,
      "outputs": [
        {
          "output_type": "execute_result",
          "data": {
            "text/plain": [
              "<matplotlib.axes._subplots.AxesSubplot at 0x7fd67480fb10>"
            ]
          },
          "metadata": {
            "tags": []
          },
          "execution_count": 21
        },
        {
          "output_type": "display_data",
          "data": {
            "image/png": "[encoded data removed]",
            "text/plain": [
              "<Figure size 360x720 with 1 Axes>"
            ]
          },
          "metadata": {
            "tags": [],
            "needs_background": "light"
          }
        }
      ]
    },
    {
      "cell_type": "markdown",
      "metadata": {
        "id": "Y_wWoabt-bgp"
      },
      "source": [
        "Since presence of outliers is almost same for both case (0/1), we will leave the outliers as is"
      ]
    },
    {
      "cell_type": "code",
      "metadata": {
        "colab": {
          "base_uri": "https://localhost:8080/"
        },
        "id": "ir4SLq9aNHFk",
        "outputId": "00073c45-21ba-440c-c359-3494ca65924e"
      },
      "source": [
        "train.skew(axis = 0)"
      ],
      "execution_count": null,
      "outputs": [
        {
          "output_type": "execute_result",
          "data": {
            "text/plain": [
              "Vintage                0.790189\n",
              "Credit_Product         0.709105\n",
              "Avg_Account_Balance    2.968727\n",
              "Is_Active              0.458036\n",
              "Is_Lead                1.235596\n",
              "dtype: float64"
            ]
          },
          "metadata": {
            "tags": []
          },
          "execution_count": 22
        }
      ]
    },
    {
      "cell_type": "markdown",
      "metadata": {
        "id": "gN2N0E3yOwz9"
      },
      "source": [
        "Above cell also shows the presence of Skewness in Average Account Balance column"
      ]
    },
    {
      "cell_type": "code",
      "metadata": {
        "id": "MjrZPh6PPMv_"
      },
      "source": [
        "#using Log to reduce the bring the skewed values under normal distribution\n",
        "train['log_avg_bal'] = np.log(train['Avg_Account_Balance'])\n",
        "train['Vintage_log'] = np.log(train['Vintage'])"
      ],
      "execution_count": null,
      "outputs": []
    },
    {
      "cell_type": "code",
      "metadata": {
        "id": "tWFHnh_xQoko"
      },
      "source": [
        "#similar for test dataset\n",
        "test['log_avg_bal'] = np.log(test['Avg_Account_Balance'])\n",
        "test['Vintage_log'] = np.log(test['Vintage'])"
      ],
      "execution_count": null,
      "outputs": []
    },
    {
      "cell_type": "code",
      "metadata": {
        "id": "uC1e_HMdQ1EC"
      },
      "source": [
        "#removing the original columns\n",
        "train.drop(['Avg_Account_Balance','Vintage'],axis=1,inplace=True)\n",
        "test.drop(['Avg_Account_Balance','Vintage'],axis=1,inplace=True)"
      ],
      "execution_count": null,
      "outputs": []
    },
    {
      "cell_type": "code",
      "metadata": {
        "id": "o1SriW-ycuyI"
      },
      "source": [
        "#lets split and fill the missing value for Credit Product column\n",
        "train['Credit_Product'].fillna(value=1.0,inplace=True)"
      ],
      "execution_count": null,
      "outputs": []
    },
    {
      "cell_type": "code",
      "metadata": {
        "id": "BDYfkzSTfapE"
      },
      "source": [
        "#same for test dataset\n",
        "test['Credit_Product'].fillna(value=1.0,inplace=True)"
      ],
      "execution_count": null,
      "outputs": []
    },
    {
      "cell_type": "code",
      "metadata": {
        "id": "fIrkcqX7g5IJ"
      },
      "source": [
        "#splitting away dependent and independent variables\n",
        "x = train.iloc[:,[0,1,2,3,4,5,6,8,9,10]]\n",
        "y = train.iloc[:,7]"
      ],
      "execution_count": null,
      "outputs": []
    },
    {
      "cell_type": "code",
      "metadata": {
        "id": "J0m9e2T4pmst"
      },
      "source": [
        "from sklearn.model_selection import train_test_split\n",
        "x_train,x_test,y_train,y_test = train_test_split(x,y,test_size=0.25)"
      ],
      "execution_count": null,
      "outputs": []
    },
    {
      "cell_type": "code",
      "metadata": {
        "colab": {
          "base_uri": "https://localhost:8080/"
        },
        "id": "UGmgt9PMgct4",
        "outputId": "bd0705a7-8a22-4ec7-bfdf-f148e9a45b86"
      },
      "source": [
        "x_train.drop(['ID'],axis=1,inplace=True)\n",
        "x_test.drop(['ID'],axis=1,inplace=True)"
      ],
      "execution_count": null,
      "outputs": [
        {
          "output_type": "stream",
          "text": [
            "/usr/local/lib/python3.7/dist-packages/pandas/core/frame.py:4174: SettingWithCopyWarning: \n",
            "A value is trying to be set on a copy of a slice from a DataFrame\n",
            "\n",
            "See the caveats in the documentation: https://pandas.pydata.org/pandas-docs/stable/user_guide/indexing.html#returning-a-view-versus-a-copy\n",
            "  errors=errors,\n"
          ],
          "name": "stderr"
        }
      ]
    },
    {
      "cell_type": "code",
      "metadata": {
        "id": "lZ8XfHYAlxF-"
      },
      "source": [
        "test.drop(['ID'],axis=1,inplace=True)"
      ],
      "execution_count": 47,
      "outputs": []
    },
    {
      "cell_type": "code",
      "metadata": {
        "colab": {
          "base_uri": "https://localhost:8080/",
          "height": 204
        },
        "id": "8EevSNZvhyiH",
        "outputId": "1395b5fb-8a1a-486f-cb71-3c8ad17954ea"
      },
      "source": [
        "x_train.head()"
      ],
      "execution_count": null,
      "outputs": [
        {
          "output_type": "execute_result",
          "data": {
            "text/html": [
              "<div>\n",
              "<style scoped>\n",
              "    .dataframe tbody tr th:only-of-type {\n",
              "        vertical-align: middle;\n",
              "    }\n",
              "\n",
              "    .dataframe tbody tr th {\n",
              "        vertical-align: top;\n",
              "    }\n",
              "\n",
              "    .dataframe thead th {\n",
              "        text-align: right;\n",
              "    }\n",
              "</style>\n",
              "<table border=\"1\" class=\"dataframe\">\n",
              "  <thead>\n",
              "    <tr style=\"text-align: right;\">\n",
              "      <th></th>\n",
              "      <th>Gender</th>\n",
              "      <th>Region_Code</th>\n",
              "      <th>Occupation</th>\n",
              "      <th>Channel_Code</th>\n",
              "      <th>Credit_Product</th>\n",
              "      <th>Is_Active</th>\n",
              "      <th>age_group</th>\n",
              "      <th>log_avg_bal</th>\n",
              "      <th>Vintage_log</th>\n",
              "    </tr>\n",
              "  </thead>\n",
              "  <tbody>\n",
              "    <tr>\n",
              "      <th>202478</th>\n",
              "      <td>Female</td>\n",
              "      <td>RG277</td>\n",
              "      <td>Self_Employed</td>\n",
              "      <td>X1</td>\n",
              "      <td>0.0</td>\n",
              "      <td>0</td>\n",
              "      <td>(25, 30]</td>\n",
              "      <td>13.213362</td>\n",
              "      <td>3.433987</td>\n",
              "    </tr>\n",
              "    <tr>\n",
              "      <th>126024</th>\n",
              "      <td>Male</td>\n",
              "      <td>RG283</td>\n",
              "      <td>Other</td>\n",
              "      <td>X2</td>\n",
              "      <td>0.0</td>\n",
              "      <td>1</td>\n",
              "      <td>(45, 50]</td>\n",
              "      <td>13.793714</td>\n",
              "      <td>4.510860</td>\n",
              "    </tr>\n",
              "    <tr>\n",
              "      <th>110422</th>\n",
              "      <td>Female</td>\n",
              "      <td>RG277</td>\n",
              "      <td>Salaried</td>\n",
              "      <td>X1</td>\n",
              "      <td>0.0</td>\n",
              "      <td>0</td>\n",
              "      <td>(25, 30]</td>\n",
              "      <td>14.128080</td>\n",
              "      <td>3.496508</td>\n",
              "    </tr>\n",
              "    <tr>\n",
              "      <th>51171</th>\n",
              "      <td>Male</td>\n",
              "      <td>RG254</td>\n",
              "      <td>Self_Employed</td>\n",
              "      <td>X2</td>\n",
              "      <td>0.0</td>\n",
              "      <td>1</td>\n",
              "      <td>(45, 50]</td>\n",
              "      <td>14.561503</td>\n",
              "      <td>4.510860</td>\n",
              "    </tr>\n",
              "    <tr>\n",
              "      <th>97217</th>\n",
              "      <td>Male</td>\n",
              "      <td>RG283</td>\n",
              "      <td>Other</td>\n",
              "      <td>X1</td>\n",
              "      <td>0.0</td>\n",
              "      <td>1</td>\n",
              "      <td>(25, 30]</td>\n",
              "      <td>13.663318</td>\n",
              "      <td>2.944439</td>\n",
              "    </tr>\n",
              "  </tbody>\n",
              "</table>\n",
              "</div>"
            ],
            "text/plain": [
              "        Gender Region_Code     Occupation  ... age_group  log_avg_bal  Vintage_log\n",
              "202478  Female       RG277  Self_Employed  ...  (25, 30]    13.213362     3.433987\n",
              "126024    Male       RG283          Other  ...  (45, 50]    13.793714     4.510860\n",
              "110422  Female       RG277       Salaried  ...  (25, 30]    14.128080     3.496508\n",
              "51171     Male       RG254  Self_Employed  ...  (45, 50]    14.561503     4.510860\n",
              "97217     Male       RG283          Other  ...  (25, 30]    13.663318     2.944439\n",
              "\n",
              "[5 rows x 9 columns]"
            ]
          },
          "metadata": {
            "tags": []
          },
          "execution_count": 31
        }
      ]
    },
    {
      "cell_type": "code",
      "metadata": {
        "id": "NFjUix4Wjcqt"
      },
      "source": [
        "x_test = pd.get_dummies(x_test)"
      ],
      "execution_count": null,
      "outputs": []
    },
    {
      "cell_type": "code",
      "metadata": {
        "colab": {
          "base_uri": "https://localhost:8080/"
        },
        "id": "wHCvNr4Hfw36",
        "outputId": "7332351b-6304-4b33-8209-ae8aa043e3a3"
      },
      "source": [
        "from sklearn.tree import DecisionTreeClassifier\n",
        "classifier = DecisionTreeClassifier(class_weight='balanced')\n",
        "classifier.fit(x_train,y_train)"
      ],
      "execution_count": null,
      "outputs": [
        {
          "output_type": "execute_result",
          "data": {
            "text/plain": [
              "DecisionTreeClassifier(ccp_alpha=0.0, class_weight='balanced', criterion='gini',\n",
              "                       max_depth=None, max_features=None, max_leaf_nodes=None,\n",
              "                       min_impurity_decrease=0.0, min_impurity_split=None,\n",
              "                       min_samples_leaf=1, min_samples_split=2,\n",
              "                       min_weight_fraction_leaf=0.0, presort='deprecated',\n",
              "                       random_state=None, splitter='best')"
            ]
          },
          "metadata": {
            "tags": []
          },
          "execution_count": 36
        }
      ]
    },
    {
      "cell_type": "code",
      "metadata": {
        "id": "VR-S53ixkDg3"
      },
      "source": [
        "y_pred = classifier.predict(x_test)"
      ],
      "execution_count": null,
      "outputs": []
    },
    {
      "cell_type": "code",
      "metadata": {
        "colab": {
          "base_uri": "https://localhost:8080/"
        },
        "id": "HEf1cM4dj24_",
        "outputId": "ade0cbf5-d45e-496a-d3ce-92d0149567aa"
      },
      "source": [
        "from sklearn.metrics import roc_auc_score\n",
        "print(roc_auc_score(y_test,y_pred))"
      ],
      "execution_count": null,
      "outputs": [
        {
          "output_type": "stream",
          "text": [
            "0.6653829030865338\n"
          ],
          "name": "stdout"
        }
      ]
    },
    {
      "cell_type": "code",
      "metadata": {
        "id": "csxt7vhpkbdH"
      },
      "source": [
        "test = pd.get_dummies(test)"
      ],
      "execution_count": 50,
      "outputs": []
    },
    {
      "cell_type": "code",
      "metadata": {
        "id": "XWGQpaHlquzP"
      },
      "source": [
        "test_pred = classifier.predict(test)"
      ],
      "execution_count": 51,
      "outputs": []
    },
    {
      "cell_type": "code",
      "metadata": {
        "id": "eLZqarCuq89Q"
      },
      "source": [
        "submission = pd.read_csv('sample_submission.csv')"
      ],
      "execution_count": 53,
      "outputs": []
    },
    {
      "cell_type": "code",
      "metadata": {
        "id": "ncZXjXwhrHYb"
      },
      "source": [
        "submission.drop(['ID','Is_Lead'],axis=1,inplace=True)"
      ],
      "execution_count": 57,
      "outputs": []
    },
    {
      "cell_type": "code",
      "metadata": {
        "id": "aL6LN5OzrKqD"
      },
      "source": [
        "submission['ID'] = test_orig['ID']"
      ],
      "execution_count": 58,
      "outputs": []
    },
    {
      "cell_type": "code",
      "metadata": {
        "id": "i2p6kFcMr2m8"
      },
      "source": [
        "submission['Is_Lead'] = test_pred"
      ],
      "execution_count": 60,
      "outputs": []
    },
    {
      "cell_type": "code",
      "metadata": {
        "colab": {
          "base_uri": "https://localhost:8080/"
        },
        "id": "LYkFaiB8sAl3",
        "outputId": "2d1bfd2b-f06b-46e0-9013-cd4d9cd34616"
      },
      "source": [
        "submission.info()"
      ],
      "execution_count": 61,
      "outputs": [
        {
          "output_type": "stream",
          "text": [
            "<class 'pandas.core.frame.DataFrame'>\n",
            "RangeIndex: 105312 entries, 0 to 105311\n",
            "Data columns (total 2 columns):\n",
            " #   Column   Non-Null Count   Dtype \n",
            "---  ------   --------------   ----- \n",
            " 0   ID       105312 non-null  object\n",
            " 1   Is_Lead  105312 non-null  int64 \n",
            "dtypes: int64(1), object(1)\n",
            "memory usage: 1.6+ MB\n"
          ],
          "name": "stdout"
        }
      ]
    },
    {
      "cell_type": "code",
      "metadata": {
        "id": "yLGQGaqPsCez"
      },
      "source": [
        "submission.to_csv('submissionfile.csv',index=False)"
      ],
      "execution_count": 63,
      "outputs": []
    },
    {
      "cell_type": "code",
      "metadata": {
        "id": "ExoRbKNMsYiB"
      },
      "source": [
        ""
      ],
      "execution_count": null,
      "outputs": []
    }
  ]
}